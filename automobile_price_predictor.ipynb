{
    "nbformat_minor": 2, 
    "cells": [
        {
            "source": "\n# Price Prediction Model for Automobiles\n\n## Predict the Price of an automobile based on the features and hardware properties of some previously sold vehicles\n\nI used the \"automobile\" price prediction public dataset from the UCI repository (source: https://archive.ics.uci.edu/ml/datasets/automobile)\n\nThe data was cleansed and formatted with the following attributes:\n\n\n   1. Index: The dataset table was deliberately randomized to avoid incidences of uniform clustered data hence the unordered index. \n   2. The rest of the attributes include the price, model and other selected automobile features as listed and explained in detail in the naming document downloadable alongside the UCI dataset.\n   3. String values were converted to their associated numerical values and prepared for Machine Learning with one-hot encoding. \n   \n\n\n## Task\n\nTo build a Machine Learning Model for price prediction which outputs an estimated price of a vehicle based on user-inputted features.\n\nSimple linear regression will be utilized using the Scikit_Learn ML Library", 
            "cell_type": "markdown", 
            "metadata": {}
        }, 
        {
            "execution_count": 33, 
            "cell_type": "code", 
            "metadata": {}, 
            "outputs": [], 
            "source": "##Import Statements\n\n### To serialize the model and produce a pickle file output for further model deployment and hosting in any ML engine \nimport datetime\nimport pickle\n\n### To import pandas library for data manipulation and analysis\nimport pandas as pd\n\n### To build a simple regression model using the Scikit_Learn framework\nfrom sklearn.linear_model import LinearRegression\nfrom sklearn.externals import joblib\nfrom sklearn import preprocessing\nfrom sklearn.pipeline import Pipeline\nimport warnings"
        }, 
        {
            "execution_count": 29, 
            "cell_type": "code", 
            "metadata": {}, 
            "outputs": [], 
            "source": "# The code was removed by Watson Studio for sharing."
        }, 
        {
            "execution_count": 28, 
            "cell_type": "code", 
            "metadata": {}, 
            "outputs": [
                {
                    "execution_count": 28, 
                    "metadata": {}, 
                    "data": {
                        "text/html": "<div>\n<style scoped>\n    .dataframe tbody tr th:only-of-type {\n        vertical-align: middle;\n    }\n\n    .dataframe tbody tr th {\n        vertical-align: top;\n    }\n\n    .dataframe thead th {\n        text-align: right;\n    }\n</style>\n<table border=\"1\" class=\"dataframe\">\n  <thead>\n    <tr style=\"text-align: right;\">\n      <th></th>\n      <th>index</th>\n      <th>alfa-romero</th>\n      <th>audi</th>\n      <th>bmw</th>\n      <th>chevrolet</th>\n      <th>dodge</th>\n      <th>honda</th>\n      <th>isuzu</th>\n      <th>jaguar</th>\n      <th>mazda</th>\n      <th>...</th>\n      <th>l</th>\n      <th>ohc</th>\n      <th>ohcf</th>\n      <th>ohcv</th>\n      <th>num-of-cylinders</th>\n      <th>bore</th>\n      <th>horsepower</th>\n      <th>4wd</th>\n      <th>fwd</th>\n      <th>rwd</th>\n    </tr>\n  </thead>\n  <tbody>\n    <tr>\n      <th>0</th>\n      <td>15</td>\n      <td>0</td>\n      <td>0</td>\n      <td>1</td>\n      <td>0</td>\n      <td>0</td>\n      <td>0</td>\n      <td>0</td>\n      <td>0</td>\n      <td>0</td>\n      <td>...</td>\n      <td>0</td>\n      <td>1</td>\n      <td>0</td>\n      <td>0</td>\n      <td>6</td>\n      <td>3.62</td>\n      <td>182</td>\n      <td>0</td>\n      <td>0</td>\n      <td>1</td>\n    </tr>\n    <tr>\n      <th>1</th>\n      <td>139</td>\n      <td>0</td>\n      <td>0</td>\n      <td>0</td>\n      <td>0</td>\n      <td>0</td>\n      <td>0</td>\n      <td>0</td>\n      <td>0</td>\n      <td>0</td>\n      <td>...</td>\n      <td>0</td>\n      <td>0</td>\n      <td>1</td>\n      <td>0</td>\n      <td>4</td>\n      <td>3.62</td>\n      <td>73</td>\n      <td>0</td>\n      <td>1</td>\n      <td>0</td>\n    </tr>\n    <tr>\n      <th>2</th>\n      <td>190</td>\n      <td>0</td>\n      <td>0</td>\n      <td>0</td>\n      <td>0</td>\n      <td>0</td>\n      <td>0</td>\n      <td>0</td>\n      <td>0</td>\n      <td>0</td>\n      <td>...</td>\n      <td>0</td>\n      <td>1</td>\n      <td>0</td>\n      <td>0</td>\n      <td>4</td>\n      <td>3.19</td>\n      <td>90</td>\n      <td>0</td>\n      <td>1</td>\n      <td>0</td>\n    </tr>\n    <tr>\n      <th>3</th>\n      <td>1</td>\n      <td>1</td>\n      <td>0</td>\n      <td>0</td>\n      <td>0</td>\n      <td>0</td>\n      <td>0</td>\n      <td>0</td>\n      <td>0</td>\n      <td>0</td>\n      <td>...</td>\n      <td>0</td>\n      <td>0</td>\n      <td>0</td>\n      <td>0</td>\n      <td>4</td>\n      <td>3.47</td>\n      <td>111</td>\n      <td>0</td>\n      <td>0</td>\n      <td>1</td>\n    </tr>\n    <tr>\n      <th>4</th>\n      <td>161</td>\n      <td>0</td>\n      <td>0</td>\n      <td>0</td>\n      <td>0</td>\n      <td>0</td>\n      <td>0</td>\n      <td>0</td>\n      <td>0</td>\n      <td>0</td>\n      <td>...</td>\n      <td>0</td>\n      <td>1</td>\n      <td>0</td>\n      <td>0</td>\n      <td>4</td>\n      <td>3.19</td>\n      <td>70</td>\n      <td>0</td>\n      <td>1</td>\n      <td>0</td>\n    </tr>\n  </tbody>\n</table>\n<p>5 rows \u00d7 43 columns</p>\n</div>", 
                        "text/plain": "   index  alfa-romero  audi  bmw  chevrolet  dodge  honda  isuzu  jaguar  \\\n0     15            0     0    1          0      0      0      0       0   \n1    139            0     0    0          0      0      0      0       0   \n2    190            0     0    0          0      0      0      0       0   \n3      1            1     0    0          0      0      0      0       0   \n4    161            0     0    0          0      0      0      0       0   \n\n   mazda  ...  l  ohc  ohcf  ohcv  num-of-cylinders  bore  horsepower  4wd  \\\n0      0  ...  0    1     0     0                 6  3.62         182    0   \n1      0  ...  0    0     1     0                 4  3.62          73    0   \n2      0  ...  0    1     0     0                 4  3.19          90    0   \n3      0  ...  0    0     0     0                 4  3.47         111    0   \n4      0  ...  0    1     0     0                 4  3.19          70    0   \n\n   fwd  rwd  \n0    0    1  \n1    1    0  \n2    1    0  \n3    0    1  \n4    1    0  \n\n[5 rows x 43 columns]"
                    }, 
                    "output_type": "execute_result"
                }
            ], 
            "source": "### To return the first five rows of the dataframe including the header as a glimpse of the dataset\nautomobile.head()"
        }, 
        {
            "execution_count": 26, 
            "cell_type": "code", 
            "metadata": {}, 
            "outputs": [
                {
                    "execution_count": 26, 
                    "metadata": {}, 
                    "data": {
                        "text/plain": "Index(['index', 'alfa-romero', 'audi', 'bmw', 'chevrolet', 'dodge', 'honda',\n       'isuzu', 'jaguar', 'mazda', 'mercedes-benz', 'mercury', 'mitsubishi',\n       'nissan', 'peugot', 'plymouth', 'porsche', 'saab', 'subaru', 'toyota',\n       'volkswagen', 'volvo', 'diesel', 'gas', 'convertible', 'hardtop',\n       'hatchback', 'sedan', 'wagon', 'price', 'num-of-doors', 'avg-mpg',\n       'dohc', 'l', 'ohc', 'ohcf', 'ohcv', 'num-of-cylinders', 'bore',\n       'horsepower', '4wd', 'fwd', 'rwd'],\n      dtype='object')"
                    }, 
                    "output_type": "execute_result"
                }
            ], 
            "source": "### To view the header columns\nautomobile.columns"
        }, 
        {
            "execution_count": 27, 
            "cell_type": "code", 
            "metadata": {}, 
            "outputs": [], 
            "source": "### To convert the price column to numeric form as the label will be the target of the prediction\nauto_price = automobile[['price']].apply(pd.to_numeric)"
        }, 
        {
            "execution_count": 28, 
            "cell_type": "code", 
            "metadata": {}, 
            "outputs": [], 
            "source": "### Drop the price column and leave the remaining data in a new table dataframe\nauto_features = automobile.drop('price', axis=1)"
        }, 
        {
            "execution_count": 29, 
            "cell_type": "code", 
            "metadata": {}, 
            "outputs": [], 
            "source": "### The index column will also be dropped as its no more useful from this point as it has no predictive value\nauto_features = auto_features.drop(['index'], axis=1)"
        }, 
        {
            "source": "### We are now left with the needed features for the ML model", 
            "cell_type": "markdown", 
            "metadata": {}
        }, 
        {
            "execution_count": 30, 
            "cell_type": "code", 
            "metadata": {}, 
            "outputs": [
                {
                    "execution_count": 30, 
                    "metadata": {}, 
                    "data": {
                        "text/html": "<div>\n<style scoped>\n    .dataframe tbody tr th:only-of-type {\n        vertical-align: middle;\n    }\n\n    .dataframe tbody tr th {\n        vertical-align: top;\n    }\n\n    .dataframe thead th {\n        text-align: right;\n    }\n</style>\n<table border=\"1\" class=\"dataframe\">\n  <thead>\n    <tr style=\"text-align: right;\">\n      <th></th>\n      <th>alfa-romero</th>\n      <th>audi</th>\n      <th>bmw</th>\n      <th>chevrolet</th>\n      <th>dodge</th>\n      <th>honda</th>\n      <th>isuzu</th>\n      <th>jaguar</th>\n      <th>mazda</th>\n      <th>mercedes-benz</th>\n      <th>...</th>\n      <th>l</th>\n      <th>ohc</th>\n      <th>ohcf</th>\n      <th>ohcv</th>\n      <th>num-of-cylinders</th>\n      <th>bore</th>\n      <th>horsepower</th>\n      <th>4wd</th>\n      <th>fwd</th>\n      <th>rwd</th>\n    </tr>\n  </thead>\n  <tbody>\n    <tr>\n      <td>count</td>\n      <td>190.000000</td>\n      <td>190.000000</td>\n      <td>190.000000</td>\n      <td>190.000000</td>\n      <td>190.000000</td>\n      <td>190.000000</td>\n      <td>190.000000</td>\n      <td>190.000000</td>\n      <td>190.000000</td>\n      <td>190.000000</td>\n      <td>...</td>\n      <td>190.000000</td>\n      <td>190.000000</td>\n      <td>190.000000</td>\n      <td>190.000000</td>\n      <td>190.000000</td>\n      <td>190.000000</td>\n      <td>190.000000</td>\n      <td>190.000000</td>\n      <td>190.000000</td>\n      <td>190.000000</td>\n    </tr>\n    <tr>\n      <td>mean</td>\n      <td>0.015789</td>\n      <td>0.031579</td>\n      <td>0.042105</td>\n      <td>0.015789</td>\n      <td>0.047368</td>\n      <td>0.078947</td>\n      <td>0.010526</td>\n      <td>0.005263</td>\n      <td>0.057895</td>\n      <td>0.036842</td>\n      <td>...</td>\n      <td>0.063158</td>\n      <td>0.736842</td>\n      <td>0.078947</td>\n      <td>0.063158</td>\n      <td>4.368421</td>\n      <td>3.320842</td>\n      <td>101.536842</td>\n      <td>0.042105</td>\n      <td>0.600000</td>\n      <td>0.357895</td>\n    </tr>\n    <tr>\n      <td>std</td>\n      <td>0.124990</td>\n      <td>0.175338</td>\n      <td>0.201360</td>\n      <td>0.124990</td>\n      <td>0.212987</td>\n      <td>0.270369</td>\n      <td>0.102326</td>\n      <td>0.072548</td>\n      <td>0.234161</td>\n      <td>0.188872</td>\n      <td>...</td>\n      <td>0.243889</td>\n      <td>0.441511</td>\n      <td>0.270369</td>\n      <td>0.243889</td>\n      <td>0.861310</td>\n      <td>0.276848</td>\n      <td>36.474478</td>\n      <td>0.201360</td>\n      <td>0.491192</td>\n      <td>0.480647</td>\n    </tr>\n    <tr>\n      <td>min</td>\n      <td>0.000000</td>\n      <td>0.000000</td>\n      <td>0.000000</td>\n      <td>0.000000</td>\n      <td>0.000000</td>\n      <td>0.000000</td>\n      <td>0.000000</td>\n      <td>0.000000</td>\n      <td>0.000000</td>\n      <td>0.000000</td>\n      <td>...</td>\n      <td>0.000000</td>\n      <td>0.000000</td>\n      <td>0.000000</td>\n      <td>0.000000</td>\n      <td>3.000000</td>\n      <td>2.540000</td>\n      <td>34.000000</td>\n      <td>0.000000</td>\n      <td>0.000000</td>\n      <td>0.000000</td>\n    </tr>\n    <tr>\n      <td>25%</td>\n      <td>0.000000</td>\n      <td>0.000000</td>\n      <td>0.000000</td>\n      <td>0.000000</td>\n      <td>0.000000</td>\n      <td>0.000000</td>\n      <td>0.000000</td>\n      <td>0.000000</td>\n      <td>0.000000</td>\n      <td>0.000000</td>\n      <td>...</td>\n      <td>0.000000</td>\n      <td>0.000000</td>\n      <td>0.000000</td>\n      <td>0.000000</td>\n      <td>4.000000</td>\n      <td>3.135000</td>\n      <td>70.000000</td>\n      <td>0.000000</td>\n      <td>0.000000</td>\n      <td>0.000000</td>\n    </tr>\n    <tr>\n      <td>50%</td>\n      <td>0.000000</td>\n      <td>0.000000</td>\n      <td>0.000000</td>\n      <td>0.000000</td>\n      <td>0.000000</td>\n      <td>0.000000</td>\n      <td>0.000000</td>\n      <td>0.000000</td>\n      <td>0.000000</td>\n      <td>0.000000</td>\n      <td>...</td>\n      <td>0.000000</td>\n      <td>1.000000</td>\n      <td>0.000000</td>\n      <td>0.000000</td>\n      <td>4.000000</td>\n      <td>3.310000</td>\n      <td>94.000000</td>\n      <td>0.000000</td>\n      <td>1.000000</td>\n      <td>0.000000</td>\n    </tr>\n    <tr>\n      <td>75%</td>\n      <td>0.000000</td>\n      <td>0.000000</td>\n      <td>0.000000</td>\n      <td>0.000000</td>\n      <td>0.000000</td>\n      <td>0.000000</td>\n      <td>0.000000</td>\n      <td>0.000000</td>\n      <td>0.000000</td>\n      <td>0.000000</td>\n      <td>...</td>\n      <td>0.000000</td>\n      <td>1.000000</td>\n      <td>0.000000</td>\n      <td>0.000000</td>\n      <td>4.000000</td>\n      <td>3.590000</td>\n      <td>116.000000</td>\n      <td>0.000000</td>\n      <td>1.000000</td>\n      <td>1.000000</td>\n    </tr>\n    <tr>\n      <td>max</td>\n      <td>1.000000</td>\n      <td>1.000000</td>\n      <td>1.000000</td>\n      <td>1.000000</td>\n      <td>1.000000</td>\n      <td>1.000000</td>\n      <td>1.000000</td>\n      <td>1.000000</td>\n      <td>1.000000</td>\n      <td>1.000000</td>\n      <td>...</td>\n      <td>1.000000</td>\n      <td>1.000000</td>\n      <td>1.000000</td>\n      <td>1.000000</td>\n      <td>8.000000</td>\n      <td>3.940000</td>\n      <td>207.000000</td>\n      <td>1.000000</td>\n      <td>1.000000</td>\n      <td>1.000000</td>\n    </tr>\n  </tbody>\n</table>\n<p>8 rows \u00d7 41 columns</p>\n</div>", 
                        "text/plain": "       alfa-romero        audi         bmw   chevrolet       dodge  \\\ncount   190.000000  190.000000  190.000000  190.000000  190.000000   \nmean      0.015789    0.031579    0.042105    0.015789    0.047368   \nstd       0.124990    0.175338    0.201360    0.124990    0.212987   \nmin       0.000000    0.000000    0.000000    0.000000    0.000000   \n25%       0.000000    0.000000    0.000000    0.000000    0.000000   \n50%       0.000000    0.000000    0.000000    0.000000    0.000000   \n75%       0.000000    0.000000    0.000000    0.000000    0.000000   \nmax       1.000000    1.000000    1.000000    1.000000    1.000000   \n\n            honda       isuzu      jaguar       mazda  mercedes-benz  ...  \\\ncount  190.000000  190.000000  190.000000  190.000000     190.000000  ...   \nmean     0.078947    0.010526    0.005263    0.057895       0.036842  ...   \nstd      0.270369    0.102326    0.072548    0.234161       0.188872  ...   \nmin      0.000000    0.000000    0.000000    0.000000       0.000000  ...   \n25%      0.000000    0.000000    0.000000    0.000000       0.000000  ...   \n50%      0.000000    0.000000    0.000000    0.000000       0.000000  ...   \n75%      0.000000    0.000000    0.000000    0.000000       0.000000  ...   \nmax      1.000000    1.000000    1.000000    1.000000       1.000000  ...   \n\n                l         ohc        ohcf        ohcv  num-of-cylinders  \\\ncount  190.000000  190.000000  190.000000  190.000000        190.000000   \nmean     0.063158    0.736842    0.078947    0.063158          4.368421   \nstd      0.243889    0.441511    0.270369    0.243889          0.861310   \nmin      0.000000    0.000000    0.000000    0.000000          3.000000   \n25%      0.000000    0.000000    0.000000    0.000000          4.000000   \n50%      0.000000    1.000000    0.000000    0.000000          4.000000   \n75%      0.000000    1.000000    0.000000    0.000000          4.000000   \nmax      1.000000    1.000000    1.000000    1.000000          8.000000   \n\n             bore  horsepower         4wd         fwd         rwd  \ncount  190.000000  190.000000  190.000000  190.000000  190.000000  \nmean     3.320842  101.536842    0.042105    0.600000    0.357895  \nstd      0.276848   36.474478    0.201360    0.491192    0.480647  \nmin      2.540000   34.000000    0.000000    0.000000    0.000000  \n25%      3.135000   70.000000    0.000000    0.000000    0.000000  \n50%      3.310000   94.000000    0.000000    1.000000    0.000000  \n75%      3.590000  116.000000    0.000000    1.000000    1.000000  \nmax      3.940000  207.000000    1.000000    1.000000    1.000000  \n\n[8 rows x 41 columns]"
                    }, 
                    "output_type": "execute_result"
                }
            ], 
            "source": "### To view the descriptive analysis of the final dataset\nauto_features.describe()"
        }, 
        {
            "execution_count": 31, 
            "cell_type": "code", 
            "metadata": {}, 
            "outputs": [], 
            "source": "### To build and trim a linear regression model using the scikit_learn library LinearRegression class\nmodel = LinearRegression(fit_intercept=False)"
        }, 
        {
            "execution_count": 32, 
            "cell_type": "code", 
            "metadata": {}, 
            "outputs": [
                {
                    "execution_count": 32, 
                    "metadata": {}, 
                    "data": {
                        "text/plain": "LinearRegression(copy_X=True, fit_intercept=False, n_jobs=None, normalize=False)"
                    }, 
                    "output_type": "execute_result"
                }
            ], 
            "source": "model.fit(auto_features,auto_price)"
        }, 
        {
            "execution_count": null, 
            "cell_type": "code", 
            "metadata": {}, 
            "outputs": [], 
            "source": "### Serialize the model on a pickle file for further deployment in any Ml engine\nwith open('model.pkl', 'wb') as model_file:\n    pickle.dump(model,model_file)"
        }, 
        {
            "execution_count": 33, 
            "cell_type": "code", 
            "metadata": {}, 
            "outputs": [
                {
                    "execution_count": 33, 
                    "metadata": {}, 
                    "data": {
                        "text/plain": "array([[2305.625]])"
                    }, 
                    "output_type": "execute_result"
                }
            ], 
            "source": "### Use the model for prediction using sample feature instances of a vehicle\nmodel.predict([[0,0,0,0,0,0,0,0,0,0,0,0,0,0,0,0,0,0,0,1,0,0,1,0,0,0,1,0,2,30.5,0,0,1,0,0,2,3.19,70,0,1,0]])"
        }, 
        {
            "execution_count": null, 
            "cell_type": "code", 
            "metadata": {}, 
            "outputs": [], 
            "source": "### Locate the serialized pickle file\nls"
        }, 
        {
            "execution_count": null, 
            "cell_type": "code", 
            "metadata": {}, 
            "outputs": [], 
            "source": ""
        }
    ], 
    "metadata": {
        "kernelspec": {
            "display_name": "Python 3.6", 
            "name": "python3", 
            "language": "python"
        }, 
        "language_info": {
            "mimetype": "text/x-python", 
            "nbconvert_exporter": "python", 
            "version": "3.6.8", 
            "name": "python", 
            "file_extension": ".py", 
            "pygments_lexer": "ipython3", 
            "codemirror_mode": {
                "version": 3, 
                "name": "ipython"
            }
        }
    }, 
    "nbformat": 4
}